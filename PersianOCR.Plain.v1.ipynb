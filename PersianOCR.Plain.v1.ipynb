{
 "cells": [
  {
   "cell_type": "markdown",
   "metadata": {
    "id": "h-bzXmNn0mmw"
   },
   "source": [
    "## Import Libraries"
   ]
  },
  {
   "cell_type": "code",
   "execution_count": 10,
   "metadata": {
    "id": "jOk_9tBR8De-"
   },
   "outputs": [],
   "source": [
    "import tensorflow as tf\n",
    "from tensorflow import keras\n",
    "import matplotlib.pyplot as plt\n",
    "import os\n",
    "# Ingnore some warnings to better display on Jupyter NB\n",
    "import warnings\n",
    "warnings.filterwarnings('ignore')\n",
    "# Set random seed\n",
    "tf.random.set_seed(1)"
   ]
  },
  {
   "cell_type": "code",
   "execution_count": 11,
   "metadata": {},
   "outputs": [
    {
     "data": {
      "text/plain": [
       "'2.4.1'"
      ]
     },
     "execution_count": 11,
     "metadata": {},
     "output_type": "execute_result"
    }
   ],
   "source": [
    "tf.__version__"
   ]
  },
  {
   "cell_type": "markdown",
   "metadata": {
    "id": "mwlabX975qYD"
   },
   "source": [
    "## Create Dataset"
   ]
  },
  {
   "cell_type": "code",
   "execution_count": 12,
   "metadata": {},
   "outputs": [],
   "source": [
    "# Define some constant parameters\n",
    "IMG_WIDTH = 30\n",
    "IMG_HEIGHT = 30\n",
    "EPOCHS = 20"
   ]
  },
  {
   "cell_type": "code",
   "execution_count": 13,
   "metadata": {},
   "outputs": [
    {
     "name": "stdout",
     "output_type": "stream",
     "text": [
      "Found 56529 images belonging to 36 classes.\n",
      "Found 14116 images belonging to 36 classes.\n"
     ]
    }
   ],
   "source": [
    "# Create an Image Generator\n",
    "img_gen = keras.preprocessing.image.ImageDataGenerator(\n",
    "    rescale=1./255,\n",
    "    validation_split=0.2)\n",
    "train_data_dir = os.path.dirname('Train-Data/')\n",
    "# Create train dataset with ImageGenerator from local directory\n",
    "train_ds = img_gen.flow_from_directory(\n",
    "    directory=train_data_dir,\n",
    "    subset='training',\n",
    "    shuffle=True,\n",
    "    color_mode='grayscale',\n",
    "    target_size=(IMG_WIDTH, IMG_HEIGHT),\n",
    "    interpolation='bilinear',\n",
    "    batch_size=48)\n",
    "\n",
    "# Create validation dataset with ImageGenerator from local directory\n",
    "val_ds = img_gen.flow_from_directory(\n",
    "    directory=train_data_dir,\n",
    "    subset='validation',\n",
    "    shuffle=True,\n",
    "    color_mode='grayscale',\n",
    "    target_size=(IMG_WIDTH, IMG_HEIGHT),\n",
    "    interpolation='bilinear',\n",
    "    batch_size=16)"
   ]
  },
  {
   "cell_type": "code",
   "execution_count": 14,
   "metadata": {},
   "outputs": [
    {
     "name": "stdout",
     "output_type": "stream",
     "text": [
      "Shape of one batch of data:\n",
      " (48, 30, 30, 1) \n",
      "\n",
      "Shape of one batch of labels:\n",
      " (48, 36) \n",
      "\n"
     ]
    }
   ],
   "source": [
    "print('Shape of one batch of data:\\n', train_ds[0][0].shape, '\\n')\n",
    "print('Shape of one batch of labels:\\n', train_ds[0][1].shape, '\\n')"
   ]
  },
  {
   "cell_type": "code",
   "execution_count": 15,
   "metadata": {},
   "outputs": [
    {
     "data": {
      "text/plain": [
       "<matplotlib.image.AxesImage at 0x7f7e15dc5700>"
      ]
     },
     "execution_count": 15,
     "metadata": {},
     "output_type": "execute_result"
    },
    {
     "data": {
      "image/png": "[encoded data removed]",
      "text/plain": [
       "<Figure size 432x288 with 1 Axes>"
      ]
     },
     "metadata": {
      "needs_background": "light"
     },
     "output_type": "display_data"
    }
   ],
   "source": [
    "# Show one sample of data\n",
    "img = train_ds[0][0][1]\n",
    "plt.imshow(img)"
   ]
  },
  {
   "cell_type": "markdown",
   "metadata": {
    "id": "qVo8iPCe0z_9"
   },
   "source": [
    "## Build Model"
   ]
  },
  {
   "cell_type": "code",
   "execution_count": 16,
   "metadata": {
    "id": "ENg1Ukhx07vx"
   },
   "outputs": [],
   "source": [
    "# Define CNN + FullyConnectedNetwork Model without BN and Dropout\n",
    "def OCR_Net_Plain(input_shape: tuple):\n",
    "    model = keras.models.Sequential([\n",
    "    keras.layers.Conv2D(64, 5, input_shape=input_shape),\n",
    "    keras.layers.MaxPool2D(),\n",
    "    keras.layers.ReLU(),\n",
    "    keras.layers.Conv2D(128, 5),\n",
    "    keras.layers.MaxPool2D(),\n",
    "    keras.layers.ReLU(),\n",
    "    keras.layers.Flatten(data_format='channels_last'),\n",
    "    keras.layers.Dense(1024),\n",
    "    keras.layers.ReLU(),\n",
    "    keras.layers.Dense(36),\n",
    "    keras.layers.Softmax()])\n",
    "    # Compile Model\n",
    "    model.compile(optimizer='adam',\n",
    "                    loss='categorical_crossentropy',\n",
    "                    metrics='accuracy')\n",
    "    return model"
   ]
  },
  {
   "cell_type": "code",
   "execution_count": 17,
   "metadata": {},
   "outputs": [
    {
     "name": "stdout",
     "output_type": "stream",
     "text": [
      "Model: \"sequential_1\"\n",
      "_________________________________________________________________\n",
      "Layer (type)                 Output Shape              Param #   \n",
      "=================================================================\n",
      "conv2d_2 (Conv2D)            (None, 26, 26, 64)        1664      \n",
      "_________________________________________________________________\n",
      "max_pooling2d_2 (MaxPooling2 (None, 13, 13, 64)        0         \n",
      "_________________________________________________________________\n",
      "re_lu_3 (ReLU)               (None, 13, 13, 64)        0         \n",
      "_________________________________________________________________\n",
      "conv2d_3 (Conv2D)            (None, 9, 9, 128)         204928    \n",
      "_________________________________________________________________\n",
      "max_pooling2d_3 (MaxPooling2 (None, 4, 4, 128)         0         \n",
      "_________________________________________________________________\n",
      "re_lu_4 (ReLU)               (None, 4, 4, 128)         0         \n",
      "_________________________________________________________________\n",
      "flatten_1 (Flatten)          (None, 2048)              0         \n",
      "_________________________________________________________________\n",
      "dense_2 (Dense)              (None, 1024)              2098176   \n",
      "_________________________________________________________________\n",
      "re_lu_5 (ReLU)               (None, 1024)              0         \n",
      "_________________________________________________________________\n",
      "dense_3 (Dense)              (None, 36)                36900     \n",
      "_________________________________________________________________\n",
      "softmax_1 (Softmax)          (None, 36)                0         \n",
      "=================================================================\n",
      "Total params: 2,341,668\n",
      "Trainable params: 2,341,668\n",
      "Non-trainable params: 0\n",
      "_________________________________________________________________\n"
     ]
    }
   ],
   "source": [
    "input_shape = (IMG_WIDTH, IMG_HEIGHT, 1)\n",
    "OCR_model_plain = OCR_Net_Plain(input_shape)\n",
    "OCR_model_plain.summary()"
   ]
  },
  {
   "cell_type": "markdown",
   "metadata": {
    "id": "D2YAWEMr09m1"
   },
   "source": [
    "## Training Model"
   ]
  },
  {
   "cell_type": "code",
   "execution_count": 18,
   "metadata": {},
   "outputs": [
    {
     "name": "stdout",
     "output_type": "stream",
     "text": [
      "Epoch 1/20\n",
      "1178/1178 [==============================] - 38s 32ms/step - loss: 0.8518 - accuracy: 0.7476 - val_loss: 0.2218 - val_accuracy: 0.9272\n",
      "Epoch 2/20\n",
      "1178/1178 [==============================] - 28s 24ms/step - loss: 0.1697 - accuracy: 0.9449 - val_loss: 0.1577 - val_accuracy: 0.9506\n",
      "Epoch 3/20\n",
      "1178/1178 [==============================] - 28s 24ms/step - loss: 0.1077 - accuracy: 0.9640 - val_loss: 0.1424 - val_accuracy: 0.9574\n",
      "Epoch 4/20\n",
      "1178/1178 [==============================] - 28s 24ms/step - loss: 0.0770 - accuracy: 0.9740 - val_loss: 0.1334 - val_accuracy: 0.9625\n",
      "Epoch 5/20\n",
      "1178/1178 [==============================] - 29s 24ms/step - loss: 0.0570 - accuracy: 0.9801 - val_loss: 0.1483 - val_accuracy: 0.9584\n",
      "Epoch 6/20\n",
      "1178/1178 [==============================] - 28s 24ms/step - loss: 0.0499 - accuracy: 0.9832 - val_loss: 0.1445 - val_accuracy: 0.9593\n",
      "Epoch 7/20\n",
      "1178/1178 [==============================] - 27s 23ms/step - loss: 0.0371 - accuracy: 0.9872 - val_loss: 0.1731 - val_accuracy: 0.9567\n"
     ]
    }
   ],
   "source": [
    "# Define path to save checkpionts\n",
    "checkpoint_path = os.path.join('logs', 'Plain_model')\n",
    "# Define callbacks\n",
    "# Early Stopping prevents from overfitting\n",
    "earlystopping_cb = keras.callbacks.EarlyStopping(patience=3)\n",
    "# Save weights of model while training\n",
    "checkpoint_cb = keras.callbacks.ModelCheckpoint(filepath=checkpoint_path,\n",
    "                                              save_best_only=True,\n",
    "                                              save_weights_only=True)\n",
    "# Fit model to train data\n",
    "model_history = OCR_model_plain.fit(train_ds,\n",
    "    epochs=EPOCHS,\n",
    "    validation_data=val_ds,\n",
    "    callbacks=[earlystopping_cb, checkpoint_cb])"
   ]
  },
  {
   "cell_type": "code",
   "execution_count": 19,
   "metadata": {},
   "outputs": [
    {
     "data": {
      "text/plain": [
       "<matplotlib.legend.Legend at 0x7f7e153139d0>"
      ]
     },
     "execution_count": 19,
     "metadata": {},
     "output_type": "execute_result"
    },
    {
     "data": {
      "image/png": "[encoded data removed]",
      "text/plain": [
       "<Figure size 576x360 with 1 Axes>"
      ]
     },
     "metadata": {
      "needs_background": "light"
     },
     "output_type": "display_data"
    }
   ],
   "source": [
    "# Diaplay loss and accuracy of plain model for train and validation data \n",
    "fig, ax = plt.subplots(figsize=(8, 5))\n",
    "ax.plot(model_history.history[\"loss\"], label=\"Train loss\")\n",
    "ax.plot(model_history.history[\"val_loss\"], label=\"Validation loss\")\n",
    "ax.plot(model_history.history[\"accuracy\"], label=\"Train accuracy\")\n",
    "ax.plot(model_history.history[\"val_accuracy\"], label=\"Validation accuracy\")\n",
    "ax.legend()"
   ]
  },
  {
   "cell_type": "markdown",
   "metadata": {
    "id": "LsVznLyR1Azu"
   },
   "source": [
    "## Evaluation Model"
   ]
  },
  {
   "cell_type": "code",
   "execution_count": 20,
   "metadata": {
    "id": "WeLzJMd61FyX"
   },
   "outputs": [
    {
     "name": "stdout",
     "output_type": "stream",
     "text": [
      "Found 17706 images belonging to 36 classes.\n",
      "369/369 [==============================] - 9s 24ms/step - loss: 0.2009 - accuracy: 0.9504\n",
      "Untrained model, accuracy: 95.04%\n"
     ]
    }
   ],
   "source": [
    "# Create test dataset from images saved in 'Test-Data' folder\n",
    "img_gen_ = keras.preprocessing.image.ImageDataGenerator(rescale=1./255)\n",
    "test_data_dir = os.path.dirname('Test-Data/')\n",
    "test_ds = img_gen_.flow_from_directory(\n",
    "    directory=test_data_dir,\n",
    "    shuffle=True,\n",
    "    color_mode='grayscale',\n",
    "    target_size=(IMG_WIDTH, IMG_HEIGHT),\n",
    "    interpolation='bilinear',\n",
    "    batch_size=48)\n",
    "\n",
    "# Evaluation accuracy of model\n",
    "loss, acc = OCR_model_plain.evaluate(test_ds, verbose=1)\n",
    "print(f\"Untrained model, accuracy: {100*acc:5.2f}%\")"
   ]
  },
  {
   "cell_type": "code",
   "execution_count": 21,
   "metadata": {},
   "outputs": [],
   "source": [
    "class_values = [\"ا\",\n",
    "    \"ب\",\n",
    "    \"پ\",\n",
    "    \"ت\",\n",
    "    \"ث\",\n",
    "    \"ج\",\n",
    "    \"چ\",\n",
    "    \"ح\",\n",
    "    \"خ\",\n",
    "    \"د\",\n",
    "    \"ذ\",\n",
    "    \"ر\",\n",
    "    \"ز\",\n",
    "    \"ژ\",\n",
    "    \"س\",\n",
    "    \"ش\",\n",
    "    \"ص\",\n",
    "    \"ض\",\n",
    "    \"ط\",\n",
    "    \"ظ\",\n",
    "    \"ع\",\n",
    "    \"غ\",\n",
    "    \"ف\",\n",
    "    \"ق\",\n",
    "    \"ک\",\n",
    "    \"گ\",\n",
    "    \"ل\",\n",
    "    \"م\",\n",
    "    \"ن\",\n",
    "    \"و\",\n",
    "    \"ه\",\n",
    "    \"ی\",\n",
    "    \"ئـ\",\n",
    "    \"آ\",\n",
    "    \"هـ\",\n",
    "    \"ـه\"]"
   ]
  },
  {
   "cell_type": "code",
   "execution_count": 22,
   "metadata": {},
   "outputs": [
    {
     "name": "stdout",
     "output_type": "stream",
     "text": [
      "The predicted letter is:  ه\n"
     ]
    },
    {
     "data": {
      "text/plain": [
       "<matplotlib.image.AxesImage at 0x7f7e15db9ca0>"
      ]
     },
     "execution_count": 22,
     "metadata": {},
     "output_type": "execute_result"
    },
    {
     "data": {
      "image/png": "[encoded data removed]",
      "text/plain": [
       "<Figure size 432x288 with 1 Axes>"
      ]
     },
     "metadata": {
      "needs_background": "light"
     },
     "output_type": "display_data"
    }
   ],
   "source": [
    "# This fuction is defined to prediction and letter indices\n",
    "def get_letter(pred):\n",
    "    for letter, value in test_ds.class_indices.items():\n",
    "        if pred == value:\n",
    "            return int(letter)\n",
    "        \n",
    "# Predict one sample of data\n",
    "sample = test_ds[0][0][20]\n",
    "pred = OCR_model_plain.predict(sample.reshape((1, 30, 30, 1))).round(3).argmax()\n",
    "print(\"The predicted letter is: \", class_values[get_letter(pred)])\n",
    "plt.imshow(sample)"
   ]
  }
 ],
 "metadata": {
  "colab": {
   "provenance": []
  },
  "kernelspec": {
   "display_name": "Python 3 (ipykernel)",
   "language": "python",
   "name": "python3"
  },
  "language_info": {
   "codemirror_mode": {
    "name": "ipython",
    "version": 3
   },
   "file_extension": ".py",
   "mimetype": "text/x-python",
   "name": "python",
   "nbconvert_exporter": "python",
   "pygments_lexer": "ipython3",
   "version": "3.9.13"
  },
  "vscode": {
   "interpreter": {
    "hash": "fa085a72276727e76d8d3f8b72696a7c658025f3bc1cfc2762ce514c7f33be68"
   }
  }
 },
 "nbformat": 4,
 "nbformat_minor": 1
}
