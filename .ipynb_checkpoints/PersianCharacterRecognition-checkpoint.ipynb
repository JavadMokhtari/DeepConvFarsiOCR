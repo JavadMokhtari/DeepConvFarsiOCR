{
 "cells": [
  {
   "cell_type": "markdown",
   "metadata": {
    "id": "h-bzXmNn0mmw"
   },
   "source": [
    "## Import Libraries"
   ]
  },
  {
   "cell_type": "code",
   "execution_count": 35,
   "metadata": {
    "id": "jOk_9tBR8De-"
   },
   "outputs": [],
   "source": [
    "import tensorflow as tf\n",
    "from tensorflow import keras\n",
    "import matplotlib.pyplot as plt\n",
    "\n",
    "import warnings\n",
    "warnings.filterwarnings('ignore')"
   ]
  },
  {
   "cell_type": "code",
   "execution_count": 36,
   "metadata": {},
   "outputs": [
    {
     "data": {
      "text/plain": [
       "'2.4.1'"
      ]
     },
     "execution_count": 36,
     "metadata": {},
     "output_type": "execute_result"
    }
   ],
   "source": [
    "tf.__version__"
   ]
  },
  {
   "cell_type": "markdown",
   "metadata": {
    "id": "mwlabX975qYD"
   },
   "source": [
    "## Import Dataset"
   ]
  },
  {
   "cell_type": "code",
   "execution_count": 37,
   "metadata": {},
   "outputs": [],
   "source": [
    "# Define some constant parameters\n",
    "IMG_WIDTH = 30\n",
    "IMG_HEIGHT = 30\n",
    "EPOCHS = 50"
   ]
  },
  {
   "cell_type": "code",
   "execution_count": 38,
   "metadata": {},
   "outputs": [
    {
     "name": "stdout",
     "output_type": "stream",
     "text": [
      "Found 56529 images belonging to 36 classes.\n",
      "Found 14116 images belonging to 36 classes.\n"
     ]
    }
   ],
   "source": [
    "# Create an Image Generator\n",
    "img_gen = keras.preprocessing.image.ImageDataGenerator(\n",
    "    rescale=1./255,\n",
    "    validation_split=0.2)\n",
    "\n",
    "# Create train dataset with ImageGenerator from local directory\n",
    "train_ds = img_gen.flow_from_directory(\n",
    "    directory='Train-Data/',\n",
    "    subset='training',\n",
    "    shuffle=True,\n",
    "    seed=42,\n",
    "    color_mode='grayscale',\n",
    "    target_size=(IMG_WIDTH, IMG_HEIGHT),\n",
    "    interpolation='bilinear',\n",
    "    batch_size=48)\n",
    "\n",
    "# Create validation dataset with ImageGenerator from local directory\n",
    "val_ds = img_gen.flow_from_directory(\n",
    "    directory='Train-Data/',\n",
    "    subset='validation',\n",
    "    shuffle=True,\n",
    "    seed=42,\n",
    "    color_mode='grayscale',\n",
    "    target_size=(IMG_WIDTH, IMG_HEIGHT),\n",
    "    interpolation='bilinear',\n",
    "    batch_size=16)"
   ]
  },
  {
   "cell_type": "code",
   "execution_count": 39,
   "metadata": {},
   "outputs": [
    {
     "name": "stdout",
     "output_type": "stream",
     "text": [
      "Shape of one batch of data:\n",
      " (48, 30, 30, 1) \n",
      "\n",
      "Shape of one batch of labels:\n",
      " (48, 36) \n",
      "\n"
     ]
    }
   ],
   "source": [
    "print('Shape of one batch of data:\\n', train_ds[0][0].shape, '\\n')\n",
    "print('Shape of one batch of labels:\\n', train_ds[0][1].shape, '\\n')"
   ]
  },
  {
   "cell_type": "code",
   "execution_count": 53,
   "metadata": {},
   "outputs": [
    {
     "data": {
      "text/plain": [
       "<matplotlib.image.AxesImage at 0x7f071073d520>"
      ]
     },
     "execution_count": 53,
     "metadata": {},
     "output_type": "execute_result"
    },
    {
     "data": {
      "image/png": "[encoded data removed]",
      "text/plain": [
       "<Figure size 432x288 with 1 Axes>"
      ]
     },
     "metadata": {
      "needs_background": "light"
     },
     "output_type": "display_data"
    }
   ],
   "source": [
    "# Show one sample of data\n",
    "img = train_ds[0][0][4]\n",
    "plt.imshow(img)"
   ]
  },
  {
   "cell_type": "markdown",
   "metadata": {
    "id": "qVo8iPCe0z_9"
   },
   "source": [
    "## Create Model"
   ]
  },
  {
   "cell_type": "code",
   "execution_count": 54,
   "metadata": {
    "id": "ENg1Ukhx07vx"
   },
   "outputs": [],
   "source": [
    "# Define CNN + FullyConnectedNetwork Model\n",
    "OCR_model = keras.models.Sequential([\n",
    "    keras.layers.Conv2D(64, 5, input_shape=(30, 30, 1)),\n",
    "    keras.layers.BatchNormalization(),\n",
    "    keras.layers.MaxPool2D(),\n",
    "    keras.layers.ReLU(),\n",
    "    keras.layers.Dropout(0.5),\n",
    "    keras.layers.Conv2D(128, 5),\n",
    "    keras.layers.BatchNormalization(),\n",
    "    keras.layers.MaxPool2D(),\n",
    "    keras.layers.ReLU(),\n",
    "    keras.layers.BatchNormalization(),\n",
    "    keras.layers.Flatten(),\n",
    "    keras.layers.Dense(250),\n",
    "    keras.layers.ReLU(),\n",
    "    keras.layers.BatchNormalization(),\n",
    "    keras.layers.Dense(36),\n",
    "    keras.layers.Softmax()\n",
    "])"
   ]
  },
  {
   "cell_type": "code",
   "execution_count": 55,
   "metadata": {},
   "outputs": [
    {
     "name": "stdout",
     "output_type": "stream",
     "text": [
      "Model: \"sequential_2\"\n",
      "_________________________________________________________________\n",
      "Layer (type)                 Output Shape              Param #   \n",
      "=================================================================\n",
      "conv2d_4 (Conv2D)            (None, 26, 26, 64)        1664      \n",
      "_________________________________________________________________\n",
      "batch_normalization_8 (Batch (None, 26, 26, 64)        256       \n",
      "_________________________________________________________________\n",
      "max_pooling2d_4 (MaxPooling2 (None, 13, 13, 64)        0         \n",
      "_________________________________________________________________\n",
      "re_lu_6 (ReLU)               (None, 13, 13, 64)        0         \n",
      "_________________________________________________________________\n",
      "dropout_2 (Dropout)          (None, 13, 13, 64)        0         \n",
      "_________________________________________________________________\n",
      "conv2d_5 (Conv2D)            (None, 9, 9, 128)         204928    \n",
      "_________________________________________________________________\n",
      "batch_normalization_9 (Batch (None, 9, 9, 128)         512       \n",
      "_________________________________________________________________\n",
      "max_pooling2d_5 (MaxPooling2 (None, 4, 4, 128)         0         \n",
      "_________________________________________________________________\n",
      "re_lu_7 (ReLU)               (None, 4, 4, 128)         0         \n",
      "_________________________________________________________________\n",
      "batch_normalization_10 (Batc (None, 4, 4, 128)         512       \n",
      "_________________________________________________________________\n",
      "flatten_2 (Flatten)          (None, 2048)              0         \n",
      "_________________________________________________________________\n",
      "dense_4 (Dense)              (None, 250)               512250    \n",
      "_________________________________________________________________\n",
      "re_lu_8 (ReLU)               (None, 250)               0         \n",
      "_________________________________________________________________\n",
      "batch_normalization_11 (Batc (None, 250)               1000      \n",
      "_________________________________________________________________\n",
      "dense_5 (Dense)              (None, 36)                9036      \n",
      "_________________________________________________________________\n",
      "softmax_2 (Softmax)          (None, 36)                0         \n",
      "=================================================================\n",
      "Total params: 730,158\n",
      "Trainable params: 729,018\n",
      "Non-trainable params: 1,140\n",
      "_________________________________________________________________\n"
     ]
    }
   ],
   "source": [
    "OCR_model.summary()"
   ]
  },
  {
   "cell_type": "code",
   "execution_count": 57,
   "metadata": {},
   "outputs": [],
   "source": [
    "# Compile Model\n",
    "OCR_model.compile(optimizer='adam',\n",
    "                loss='categorical_crossentropy',\n",
    "                metrics='accuracy')"
   ]
  },
  {
   "cell_type": "markdown",
   "metadata": {
    "id": "D2YAWEMr09m1"
   },
   "source": [
    "## Training Model"
   ]
  },
  {
   "cell_type": "code",
   "execution_count": 58,
   "metadata": {},
   "outputs": [
    {
     "name": "stdout",
     "output_type": "stream",
     "text": [
      "1178/1178 [==============================] - 877s 741ms/step - loss: 0.6810 - accuracy: 0.7932 - val_loss: 0.2684 - val_accuracy: 0.9139\n"
     ]
    },
    {
     "data": {
      "text/plain": [
       "<tensorflow.python.keras.callbacks.History at 0x7f06c018b130>"
      ]
     },
     "execution_count": 58,
     "metadata": {},
     "output_type": "execute_result"
    }
   ],
   "source": [
    "# Fit model to train data\n",
    "OCR_model.fit(train_ds,\n",
    "    epochs=20,\n",
    "    validation_data=val_ds,\n",
    "    # Early Stopping prevents from overfitting\n",
    "    callbacks=keras.callbacks.EarlyStopping(patience=3))"
   ]
  },
  {
   "cell_type": "markdown",
   "metadata": {
    "id": "LsVznLyR1Azu"
   },
   "source": [
    "## Evaluation Model"
   ]
  },
  {
   "cell_type": "code",
   "execution_count": 67,
   "metadata": {
    "id": "WeLzJMd61FyX"
   },
   "outputs": [
    {
     "name": "stdout",
     "output_type": "stream",
     "text": [
      "Found 17706 images belonging to 36 classes.\n",
      "369/369 [==============================] - 3s 9ms/step - loss: 0.2835 - accuracy: 0.9126\n"
     ]
    },
    {
     "data": {
      "text/plain": [
       "[0.2834565341472626, 0.9126284718513489]"
      ]
     },
     "execution_count": 67,
     "metadata": {},
     "output_type": "execute_result"
    }
   ],
   "source": [
    "# Create test dataset from images saved in 'Test-Data' folder\n",
    "img_gen_ = keras.preprocessing.image.ImageDataGenerator(rescale=1./255)\n",
    "test_ds = img_gen_.flow_from_directory(\n",
    "    directory='Test-Data/',\n",
    "    shuffle=True,\n",
    "    seed=42,\n",
    "    color_mode='grayscale',\n",
    "    target_size=(IMG_WIDTH, IMG_HEIGHT),\n",
    "    interpolation='bilinear',\n",
    "    batch_size=48)\n",
    "\n",
    "# Evaluation accuracy of model\n",
    "OCR_model.evaluate(test_ds)"
   ]
  },
  {
   "cell_type": "code",
   "execution_count": 76,
   "metadata": {},
   "outputs": [
    {
     "data": {
      "text/plain": [
       "array([[0.   , 0.   , 0.998, 0.   , 0.   , 0.001, 0.   , 0.   , 0.   ,\n",
       "        0.   , 0.   , 0.   , 0.   , 0.   , 0.   , 0.001, 0.   , 0.   ,\n",
       "        0.   , 0.   , 0.   , 0.   , 0.   , 0.   , 0.   , 0.   , 0.   ,\n",
       "        0.   , 0.   , 0.   , 0.   , 0.   , 0.   , 0.   , 0.   , 0.   ]],\n",
       "      dtype=float32)"
      ]
     },
     "execution_count": 76,
     "metadata": {},
     "output_type": "execute_result"
    }
   ],
   "source": [
    "# Predict one sample of data\n",
    "OCR_model.predict(test_ds[0][0][0].reshape((1, 30, 30, 1))).round(3)"
   ]
  }
 ],
 "metadata": {
  "colab": {
   "provenance": []
  },
  "kernelspec": {
   "display_name": "Python 3 (ipykernel)",
   "language": "python",
   "name": "python3"
  },
  "language_info": {
   "codemirror_mode": {
    "name": "ipython",
    "version": 3
   },
   "file_extension": ".py",
   "mimetype": "text/x-python",
   "name": "python",
   "nbconvert_exporter": "python",
   "pygments_lexer": "ipython3",
   "version": "3.9.13"
  },
  "vscode": {
   "interpreter": {
    "hash": "fa085a72276727e76d8d3f8b72696a7c658025f3bc1cfc2762ce514c7f33be68"
   }
  }
 },
 "nbformat": 4,
 "nbformat_minor": 1
}
